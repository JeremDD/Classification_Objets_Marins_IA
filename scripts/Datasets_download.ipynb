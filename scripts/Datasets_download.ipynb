{
 "cells": [
  {
   "metadata": {},
   "cell_type": "markdown",
   "source": "**smd_dataset-1252**",
   "id": "66dbd7067a8cc506"
  },
  {
   "metadata": {
    "ExecuteTime": {
     "end_time": "2024-09-23T06:43:23.442789Z",
     "start_time": "2024-09-23T06:43:23.435490Z"
    }
   },
   "cell_type": "code",
   "source": [
    "# https://universe.roboflow.com/maritimeobjectdetection/smd_dataset/dataset/1252\n",
    "\n",
    "#!pip install roboflow\n",
    "\n",
    "#from roboflow import Roboflow\n",
    "#rf = Roboflow(api_key=\"Yb0TQknOZ5ChcMFVcgWT\")\n",
    "#project = rf.workspace(\"maritimeobjectdetection\").project(\"smd_dataset\")\n",
    "#version = project.version(1252)\n",
    "#dataset = version.download(\"yolov9\")\n"
   ],
   "id": "dcb85cc0a28c6340",
   "outputs": [],
   "execution_count": 1
  },
  {
   "metadata": {},
   "cell_type": "markdown",
   "source": "**Singapore-maritime-5**",
   "id": "d92652ad84d98157"
  },
  {
   "metadata": {
    "ExecuteTime": {
     "end_time": "2024-09-23T06:43:26.415777Z",
     "start_time": "2024-09-23T06:43:26.398917Z"
    }
   },
   "cell_type": "code",
   "source": [
    "# https://universe.roboflow.com/maritime-cumkb/singapore-maritime/dataset/5#\n",
    "\n",
    "#from roboflow import Roboflow\n",
    "#rf = Roboflow(api_key=\"Yb0TQknOZ5ChcMFVcgWT\")\n",
    "#project = rf.workspace(\"maritime-cumkb\").project(\"singapore-maritime\")\n",
    "#version = project.version(5)\n",
    "#dataset = version.download(\"yolov9\")\n"
   ],
   "id": "71ae6ed3e699d176",
   "outputs": [],
   "execution_count": 2
  },
  {
   "metadata": {},
   "cell_type": "markdown",
   "source": "**ship_recognition**",
   "id": "fe992bc3232cc61d"
  },
  {
   "metadata": {
    "ExecuteTime": {
     "end_time": "2024-09-23T06:43:29.309973Z",
     "start_time": "2024-09-23T06:43:29.298329Z"
    }
   },
   "cell_type": "code",
   "source": [
    "#https://universe.roboflow.com/ship-2pqes/ship_recognition\n",
    "\n",
    "#from roboflow import Roboflow\n",
    "\n",
    "#rf = Roboflow(api_key=\"Yb0TQknOZ5ChcMFVcgWT\")\n",
    "#project = rf.workspace(\"ship-2pqes\").project(\"ship_recognition\")\n",
    "#dataset = version.download(\"yolov9\")"
   ],
   "id": "4ac28019f708f13b",
   "outputs": [],
   "execution_count": 3
  },
  {
   "metadata": {
    "ExecuteTime": {
     "end_time": "2024-09-23T06:43:31.893436Z",
     "start_time": "2024-09-23T06:43:31.879906Z"
    }
   },
   "cell_type": "code",
   "source": [
    "#from roboflow import Roboflow\n",
    "#rf = Roboflow(api_key=\"Yb0TQknOZ5ChcMFVcgWT\")\n",
    "#project = rf.workspace(\"shipclassification\").project(\"shipclassification\")\n",
    "#version = project.version(4)\n",
    "#dataset = version.download(\"yolov9\")"
   ],
   "id": "c1b9e4c4d9596796",
   "outputs": [],
   "execution_count": 4
  },
  {
   "metadata": {
    "ExecuteTime": {
     "end_time": "2024-09-23T07:39:14.795981Z",
     "start_time": "2024-09-23T07:39:14.792922Z"
    }
   },
   "cell_type": "code",
   "source": [
    "#https://universe.roboflow.com/yehonatan-engel/sea-vessels-dataset/dataset/2\n",
    "\n",
    "#from roboflow import Roboflow\n",
    "#rf = Roboflow(api_key=\"Yb0TQknOZ5ChcMFVcgWT\")\n",
    "#project = rf.workspace(\"yehonatan-engel\").project(\"sea-vessels-dataset\")\n",
    "#version = project.version(2)\n",
    "#dataset = version.download(\"yolov9\")"
   ],
   "id": "bb99e74a8502f067",
   "outputs": [],
   "execution_count": 12
  },
  {
   "metadata": {
    "ExecuteTime": {
     "end_time": "2024-09-23T06:43:34.589153Z",
     "start_time": "2024-09-23T06:43:34.585713Z"
    }
   },
   "cell_type": "code",
   "source": [
    "#https://universe.roboflow.com/harbin-engineering-university/ship-m8spr\n",
    "\n",
    "#from roboflow import Roboflow\n",
    "#rf = Roboflow(api_key=\"Yb0TQknOZ5ChcMFVcgWT\")\n",
    "#project = rf.workspace(\"test-burb2\").project(\"ships-ebt8m\")\n",
    "#version = project.version(1)\n",
    "#dataset = version.download(\"yolov9\")"
   ],
   "id": "d1156684990d81c0",
   "outputs": [],
   "execution_count": 6
  },
  {
   "metadata": {
    "ExecuteTime": {
     "end_time": "2024-09-23T06:43:35.901939Z",
     "start_time": "2024-09-23T06:43:35.884661Z"
    }
   },
   "cell_type": "code",
   "source": [
    "#https://universe.roboflow.com/harbin-engineering-university/ship-m8spr\n",
    "\n",
    "#from roboflow import Roboflow\n",
    "#rf = Roboflow(api_key=\"Yb0TQknOZ5ChcMFVcgWT\")\n",
    "#project = rf.workspace(\"harbin-engineering-university\").project(\"ship-m8spr\")\n",
    "#version = project.version(2)\n",
    "#dataset = version.download(\"yolov9\")"
   ],
   "id": "49b11b27b415f713",
   "outputs": [],
   "execution_count": 7
  },
  {
   "metadata": {
    "ExecuteTime": {
     "end_time": "2024-09-23T06:43:37.035461Z",
     "start_time": "2024-09-23T06:43:37.019319Z"
    }
   },
   "cell_type": "code",
   "source": [
    "# https://universe.roboflow.com/admobnattapong-rt/ship-data01\n",
    "\n",
    "#from roboflow import Roboflow\n",
    "#rf = Roboflow(api_key=\"Yb0TQknOZ5ChcMFVcgWT\")\n",
    "#project = rf.workspace(\"admobnattapong-rt\").project(\"ship-data01\")\n",
    "#version = project.version(1)\n",
    "#dataset = version.download(\"yolov9\")\n"
   ],
   "id": "52fbe8c1a7c95ee9",
   "outputs": [],
   "execution_count": 8
  },
  {
   "metadata": {
    "ExecuteTime": {
     "end_time": "2024-09-23T06:43:38.169787Z",
     "start_time": "2024-09-23T06:43:38.167362Z"
    }
   },
   "cell_type": "code",
   "source": [
    "# https://universe.roboflow.com/school-z0cns/maritime-6oapv\n",
    "\n",
    "#from roboflow import Roboflow\n",
    "#rf = Roboflow(api_key=\"Yb0TQknOZ5ChcMFVcgWT\")\n",
    "#project = rf.workspace(\"school-z0cns\").project(\"maritime-6oapv\")\n",
    "#version = project.version(1)\n",
    "#dataset = version.download(\"yolov9\")"
   ],
   "id": "7de6d01296564081",
   "outputs": [],
   "execution_count": 9
  },
  {
   "metadata": {
    "ExecuteTime": {
     "end_time": "2024-09-23T06:43:39.393902Z",
     "start_time": "2024-09-23T06:43:39.377726Z"
    }
   },
   "cell_type": "code",
   "source": [
    "# https://universe.roboflow.com/abdulla-ahli-srp96/marine-object-detection\n",
    "\n",
    "#from roboflow import Roboflow\n",
    "#rf = Roboflow(api_key=\"Yb0TQknOZ5ChcMFVcgWT\")\n",
    "#project = rf.workspace(\"abdulla-ahli-srp96\").project(\"marine-object-detection\")\n",
    "#version = project.version(4)\n",
    "#dataset = version.download(\"yolov9\")"
   ],
   "id": "83afe17dfd4599f9",
   "outputs": [],
   "execution_count": 10
  }
 ],
 "metadata": {
  "kernelspec": {
   "display_name": "Python 3",
   "language": "python",
   "name": "python3"
  },
  "language_info": {
   "codemirror_mode": {
    "name": "ipython",
    "version": 2
   },
   "file_extension": ".py",
   "mimetype": "text/x-python",
   "name": "python",
   "nbconvert_exporter": "python",
   "pygments_lexer": "ipython2",
   "version": "2.7.6"
  }
 },
 "nbformat": 4,
 "nbformat_minor": 5
}
